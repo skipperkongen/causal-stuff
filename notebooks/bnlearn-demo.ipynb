{
 "cells": [
  {
   "cell_type": "markdown",
   "id": "8aab9c42",
   "metadata": {},
   "source": [
    "# BNLearn Demo\n",
    "\n",
    "> pip install bnlearn\n",
    "\n",
    "Agenda:\n",
    "\n",
    "- Create syntetic dataset with causal relationships (chains, colliders, forks)\n",
    "- Learn the causal structure\n",
    "- Visualise result"
   ]
  },
  {
   "cell_type": "code",
   "execution_count": 28,
   "id": "535795d2",
   "metadata": {},
   "outputs": [],
   "source": [
    "import numpy as np\n",
    "import pandas as pd\n",
    "import matplotlib.pyplot as plt\n",
    "import bnlearn as bn"
   ]
  },
  {
   "cell_type": "markdown",
   "id": "1a1c7c32",
   "metadata": {},
   "source": [
    "## Create data\n",
    "\n",
    "Variables:\n",
    "- Cloudy\n",
    "- Rain\n",
    "- Sprinkler\n",
    "- Grass wet"
   ]
  },
  {
   "cell_type": "code",
   "execution_count": 52,
   "id": "26bcf1ce",
   "metadata": {},
   "outputs": [
    {
     "data": {
      "text/html": [
       "<div>\n",
       "<style scoped>\n",
       "    .dataframe tbody tr th:only-of-type {\n",
       "        vertical-align: middle;\n",
       "    }\n",
       "\n",
       "    .dataframe tbody tr th {\n",
       "        vertical-align: top;\n",
       "    }\n",
       "\n",
       "    .dataframe thead th {\n",
       "        text-align: right;\n",
       "    }\n",
       "</style>\n",
       "<table border=\"1\" class=\"dataframe\">\n",
       "  <thead>\n",
       "    <tr style=\"text-align: right;\">\n",
       "      <th></th>\n",
       "      <th>cloudy</th>\n",
       "      <th>rainy</th>\n",
       "      <th>sprinkler</th>\n",
       "      <th>grass_wet</th>\n",
       "    </tr>\n",
       "  </thead>\n",
       "  <tbody>\n",
       "    <tr>\n",
       "      <th>0</th>\n",
       "      <td>1</td>\n",
       "      <td>1</td>\n",
       "      <td>0</td>\n",
       "      <td>1</td>\n",
       "    </tr>\n",
       "    <tr>\n",
       "      <th>1</th>\n",
       "      <td>1</td>\n",
       "      <td>0</td>\n",
       "      <td>0</td>\n",
       "      <td>0</td>\n",
       "    </tr>\n",
       "    <tr>\n",
       "      <th>2</th>\n",
       "      <td>1</td>\n",
       "      <td>1</td>\n",
       "      <td>0</td>\n",
       "      <td>1</td>\n",
       "    </tr>\n",
       "    <tr>\n",
       "      <th>3</th>\n",
       "      <td>1</td>\n",
       "      <td>1</td>\n",
       "      <td>0</td>\n",
       "      <td>1</td>\n",
       "    </tr>\n",
       "    <tr>\n",
       "      <th>4</th>\n",
       "      <td>0</td>\n",
       "      <td>0</td>\n",
       "      <td>1</td>\n",
       "      <td>1</td>\n",
       "    </tr>\n",
       "    <tr>\n",
       "      <th>...</th>\n",
       "      <td>...</td>\n",
       "      <td>...</td>\n",
       "      <td>...</td>\n",
       "      <td>...</td>\n",
       "    </tr>\n",
       "    <tr>\n",
       "      <th>9995</th>\n",
       "      <td>0</td>\n",
       "      <td>0</td>\n",
       "      <td>1</td>\n",
       "      <td>1</td>\n",
       "    </tr>\n",
       "    <tr>\n",
       "      <th>9996</th>\n",
       "      <td>1</td>\n",
       "      <td>0</td>\n",
       "      <td>0</td>\n",
       "      <td>0</td>\n",
       "    </tr>\n",
       "    <tr>\n",
       "      <th>9997</th>\n",
       "      <td>0</td>\n",
       "      <td>0</td>\n",
       "      <td>1</td>\n",
       "      <td>1</td>\n",
       "    </tr>\n",
       "    <tr>\n",
       "      <th>9998</th>\n",
       "      <td>1</td>\n",
       "      <td>0</td>\n",
       "      <td>0</td>\n",
       "      <td>0</td>\n",
       "    </tr>\n",
       "    <tr>\n",
       "      <th>9999</th>\n",
       "      <td>1</td>\n",
       "      <td>0</td>\n",
       "      <td>0</td>\n",
       "      <td>0</td>\n",
       "    </tr>\n",
       "  </tbody>\n",
       "</table>\n",
       "<p>10000 rows × 4 columns</p>\n",
       "</div>"
      ],
      "text/plain": [
       "      cloudy  rainy  sprinkler  grass_wet\n",
       "0          1      1          0          1\n",
       "1          1      0          0          0\n",
       "2          1      1          0          1\n",
       "3          1      1          0          1\n",
       "4          0      0          1          1\n",
       "...      ...    ...        ...        ...\n",
       "9995       0      0          1          1\n",
       "9996       1      0          0          0\n",
       "9997       0      0          1          1\n",
       "9998       1      0          0          0\n",
       "9999       1      0          0          0\n",
       "\n",
       "[10000 rows x 4 columns]"
      ]
     },
     "execution_count": 52,
     "metadata": {},
     "output_type": "execute_result"
    }
   ],
   "source": [
    "n_samples = 10000\n",
    "cloudy = np.random.choice(2, p=[0.25, 0.75], size=n_samples)\n",
    "rainy = cloudy * np.random.choice(2, p=[0.7, 0.3], size=n_samples)\n",
    "sprinkler = (1-rainy) * (1-cloudy) * np.random.choice(2, p=[0.1, 0.9], size=n_samples)\n",
    "grass_wet = np.maximum(rainy, sprinkler)\n",
    "data = np.column_stack((cloudy, rainy, sprinkler, grass_wet))\n",
    "df = pd.DataFrame(data, columns=[\"cloudy\", \"rainy\", \"sprinkler\", \"grass_wet\"])\n",
    "df"
   ]
  },
  {
   "cell_type": "markdown",
   "id": "c5a40039",
   "metadata": {},
   "source": [
    "## Learn causal structure"
   ]
  },
  {
   "cell_type": "code",
   "execution_count": 53,
   "id": "bd7210d0",
   "metadata": {},
   "outputs": [
    {
     "name": "stdout",
     "output_type": "stream",
     "text": [
      "[bnlearn] >Computing best DAG using [hc]\n",
      "[bnlearn] >Set scoring type at [bic]\n",
      "[bnlearn] >Compute structure scores ['k2', 'bds', 'bic', 'bdeu'] for model comparison (higher is better).\n",
      "[bnlearn] >Compute edge strength with [chi_square]\n"
     ]
    }
   ],
   "source": [
    "model = bn.structure_learning.fit(df)\n",
    "model = bn.independence_test(model, df)"
   ]
  },
  {
   "cell_type": "code",
   "execution_count": 54,
   "id": "ce8b4dc1",
   "metadata": {},
   "outputs": [
    {
     "data": {
      "text/plain": [
       "dict_keys(['model', 'model_edges', 'adjmat', 'config', 'structure_scores', 'independence_test'])"
      ]
     },
     "execution_count": 54,
     "metadata": {},
     "output_type": "execute_result"
    }
   ],
   "source": [
    "model.keys()"
   ]
  },
  {
   "cell_type": "code",
   "execution_count": 55,
   "id": "8662e474",
   "metadata": {},
   "outputs": [
    {
     "data": {
      "text/html": [
       "<div>\n",
       "<style scoped>\n",
       "    .dataframe tbody tr th:only-of-type {\n",
       "        vertical-align: middle;\n",
       "    }\n",
       "\n",
       "    .dataframe tbody tr th {\n",
       "        vertical-align: top;\n",
       "    }\n",
       "\n",
       "    .dataframe thead th {\n",
       "        text-align: right;\n",
       "    }\n",
       "</style>\n",
       "<table border=\"1\" class=\"dataframe\">\n",
       "  <thead>\n",
       "    <tr style=\"text-align: right;\">\n",
       "      <th></th>\n",
       "      <th>source</th>\n",
       "      <th>target</th>\n",
       "      <th>stat_test</th>\n",
       "      <th>p_value</th>\n",
       "      <th>chi_square</th>\n",
       "      <th>dof</th>\n",
       "    </tr>\n",
       "  </thead>\n",
       "  <tbody>\n",
       "    <tr>\n",
       "      <th>0</th>\n",
       "      <td>cloudy</td>\n",
       "      <td>sprinkler</td>\n",
       "      <td>True</td>\n",
       "      <td>0.000000e+00</td>\n",
       "      <td>8632.960636</td>\n",
       "      <td>1</td>\n",
       "    </tr>\n",
       "    <tr>\n",
       "      <th>1</th>\n",
       "      <td>cloudy</td>\n",
       "      <td>rainy</td>\n",
       "      <td>True</td>\n",
       "      <td>3.810332e-207</td>\n",
       "      <td>943.291723</td>\n",
       "      <td>1</td>\n",
       "    </tr>\n",
       "    <tr>\n",
       "      <th>2</th>\n",
       "      <td>rainy</td>\n",
       "      <td>grass_wet</td>\n",
       "      <td>True</td>\n",
       "      <td>0.000000e+00</td>\n",
       "      <td>3754.404848</td>\n",
       "      <td>1</td>\n",
       "    </tr>\n",
       "    <tr>\n",
       "      <th>3</th>\n",
       "      <td>sprinkler</td>\n",
       "      <td>grass_wet</td>\n",
       "      <td>True</td>\n",
       "      <td>0.000000e+00</td>\n",
       "      <td>3384.811202</td>\n",
       "      <td>1</td>\n",
       "    </tr>\n",
       "  </tbody>\n",
       "</table>\n",
       "</div>"
      ],
      "text/plain": [
       "      source     target  stat_test        p_value   chi_square  dof\n",
       "0     cloudy  sprinkler       True   0.000000e+00  8632.960636    1\n",
       "1     cloudy      rainy       True  3.810332e-207   943.291723    1\n",
       "2      rainy  grass_wet       True   0.000000e+00  3754.404848    1\n",
       "3  sprinkler  grass_wet       True   0.000000e+00  3384.811202    1"
      ]
     },
     "execution_count": 55,
     "metadata": {},
     "output_type": "execute_result"
    }
   ],
   "source": [
    "model['independence_test']"
   ]
  },
  {
   "cell_type": "markdown",
   "id": "bb28b75a",
   "metadata": {},
   "source": [
    "## Visualise result\n",
    "\n",
    "Draw causal graph"
   ]
  },
  {
   "cell_type": "code",
   "execution_count": 56,
   "id": "a6deb5f1",
   "metadata": {},
   "outputs": [
    {
     "name": "stdout",
     "output_type": "stream",
     "text": [
      "[bnlearn] >Set node properties.\n",
      "[bnlearn]> Set edge weights based on the [chi_square] test statistic.\n",
      "[bnlearn] >Set edge properties.\n",
      "[bnlearn] >Plot based on Bayesian model\n"
     ]
    },
    {
     "data": {
      "image/png": "[encoded data removed]",
      "text/plain": [
       "<Figure size 1080x720 with 1 Axes>"
      ]
     },
     "metadata": {},
     "output_type": "display_data"
    }
   ],
   "source": [
    "G = bn.plot(model)"
   ]
  },
  {
   "cell_type": "code",
   "execution_count": null,
   "id": "13a7a3d8",
   "metadata": {},
   "outputs": [],
   "source": []
  }
 ],
 "metadata": {
  "kernelspec": {
   "display_name": "Python 3 (ipykernel)",
   "language": "python",
   "name": "python3"
  },
  "language_info": {
   "codemirror_mode": {
    "name": "ipython",
    "version": 3
   },
   "file_extension": ".py",
   "mimetype": "text/x-python",
   "name": "python",
   "nbconvert_exporter": "python",
   "pygments_lexer": "ipython3",
   "version": "3.9.5"
  }
 },
 "nbformat": 4,
 "nbformat_minor": 5
}
