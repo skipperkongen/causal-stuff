{
 "cells": [
  {
   "cell_type": "markdown",
   "id": "74c029e6",
   "metadata": {},
   "source": [
    "# BNLearn Demo\n",
    "\n",
    "> pip install bnlearn\n",
    "\n",
    "Agenda:\n",
    "\n",
    "- Create syntetic dataset with causal relationships (chains, colliders, forks)\n",
    "- Learn the causal structure\n",
    "- Visualise result"
   ]
  },
  {
   "cell_type": "code",
   "execution_count": 1,
   "id": "6b0ada26",
   "metadata": {},
   "outputs": [],
   "source": [
    "import numpy as np\n",
    "import pandas as pd\n",
    "import matplotlib.pyplot as plt\n",
    "import bnlearn as bn"
   ]
  },
  {
   "cell_type": "markdown",
   "id": "ee354635",
   "metadata": {},
   "source": [
    "## Create data\n",
    "\n",
    "Create a dataset with four variables.\n",
    "\n",
    "- Cloudy: \n",
    "    - *P(Cloudy) = 0.75*\n",
    "- Rain: \n",
    "    - *P(Rain|Cloudy) = 0.3*\n",
    "    - *P(Rain|¬Cloudy) = 0*\n",
    "- Sprinkler: \n",
    "    - *P(Sprinkler|¬Cloudy) = 0.5*\n",
    "    - *P(Sprinkler|Cloudy) = 0*\n",
    "- Grass wet:\n",
    "    - *P(Grass wet|Rain or Sprinkler) = 1.0*\n",
    "    - *P(Grass wet|¬Rain and ¬Sprinkler) = 0*"
   ]
  },
  {
   "cell_type": "code",
   "execution_count": 2,
   "id": "3e73086d",
   "metadata": {},
   "outputs": [
    {
     "data": {
      "text/html": [
       "<div>\n",
       "<style scoped>\n",
       "    .dataframe tbody tr th:only-of-type {\n",
       "        vertical-align: middle;\n",
       "    }\n",
       "\n",
       "    .dataframe tbody tr th {\n",
       "        vertical-align: top;\n",
       "    }\n",
       "\n",
       "    .dataframe thead th {\n",
       "        text-align: right;\n",
       "    }\n",
       "</style>\n",
       "<table border=\"1\" class=\"dataframe\">\n",
       "  <thead>\n",
       "    <tr style=\"text-align: right;\">\n",
       "      <th></th>\n",
       "      <th>cloudy</th>\n",
       "      <th>rain</th>\n",
       "      <th>sprinkler</th>\n",
       "      <th>grass_wet</th>\n",
       "    </tr>\n",
       "  </thead>\n",
       "  <tbody>\n",
       "    <tr>\n",
       "      <th>0</th>\n",
       "      <td>1</td>\n",
       "      <td>0</td>\n",
       "      <td>0</td>\n",
       "      <td>0</td>\n",
       "    </tr>\n",
       "    <tr>\n",
       "      <th>1</th>\n",
       "      <td>1</td>\n",
       "      <td>1</td>\n",
       "      <td>0</td>\n",
       "      <td>1</td>\n",
       "    </tr>\n",
       "    <tr>\n",
       "      <th>2</th>\n",
       "      <td>1</td>\n",
       "      <td>0</td>\n",
       "      <td>0</td>\n",
       "      <td>0</td>\n",
       "    </tr>\n",
       "    <tr>\n",
       "      <th>3</th>\n",
       "      <td>0</td>\n",
       "      <td>0</td>\n",
       "      <td>0</td>\n",
       "      <td>0</td>\n",
       "    </tr>\n",
       "    <tr>\n",
       "      <th>4</th>\n",
       "      <td>1</td>\n",
       "      <td>0</td>\n",
       "      <td>0</td>\n",
       "      <td>0</td>\n",
       "    </tr>\n",
       "    <tr>\n",
       "      <th>...</th>\n",
       "      <td>...</td>\n",
       "      <td>...</td>\n",
       "      <td>...</td>\n",
       "      <td>...</td>\n",
       "    </tr>\n",
       "    <tr>\n",
       "      <th>9995</th>\n",
       "      <td>0</td>\n",
       "      <td>0</td>\n",
       "      <td>1</td>\n",
       "      <td>1</td>\n",
       "    </tr>\n",
       "    <tr>\n",
       "      <th>9996</th>\n",
       "      <td>1</td>\n",
       "      <td>0</td>\n",
       "      <td>0</td>\n",
       "      <td>0</td>\n",
       "    </tr>\n",
       "    <tr>\n",
       "      <th>9997</th>\n",
       "      <td>1</td>\n",
       "      <td>1</td>\n",
       "      <td>0</td>\n",
       "      <td>1</td>\n",
       "    </tr>\n",
       "    <tr>\n",
       "      <th>9998</th>\n",
       "      <td>0</td>\n",
       "      <td>0</td>\n",
       "      <td>0</td>\n",
       "      <td>0</td>\n",
       "    </tr>\n",
       "    <tr>\n",
       "      <th>9999</th>\n",
       "      <td>0</td>\n",
       "      <td>0</td>\n",
       "      <td>0</td>\n",
       "      <td>0</td>\n",
       "    </tr>\n",
       "  </tbody>\n",
       "</table>\n",
       "<p>10000 rows × 4 columns</p>\n",
       "</div>"
      ],
      "text/plain": [
       "      cloudy  rain  sprinkler  grass_wet\n",
       "0          1     0          0          0\n",
       "1          1     1          0          1\n",
       "2          1     0          0          0\n",
       "3          0     0          0          0\n",
       "4          1     0          0          0\n",
       "...      ...   ...        ...        ...\n",
       "9995       0     0          1          1\n",
       "9996       1     0          0          0\n",
       "9997       1     1          0          1\n",
       "9998       0     0          0          0\n",
       "9999       0     0          0          0\n",
       "\n",
       "[10000 rows x 4 columns]"
      ]
     },
     "execution_count": 2,
     "metadata": {},
     "output_type": "execute_result"
    }
   ],
   "source": [
    "n_samples = 10000\n",
    "cloudy = np.random.choice(2, p=[0.25, 0.75], size=n_samples)\n",
    "rain = cloudy * np.random.choice(2, p=[0.7, 0.3], size=n_samples)\n",
    "sprinkler = (1-rain) * (1-cloudy) * np.random.choice(2, p=[0.5, 0.5], size=n_samples)\n",
    "grass_wet = np.maximum(rain, sprinkler)\n",
    "data = np.column_stack((cloudy, rain, sprinkler, grass_wet))\n",
    "df = pd.DataFrame(data, columns=[\"cloudy\", \"rain\", \"sprinkler\", \"grass_wet\"])\n",
    "df"
   ]
  },
  {
   "cell_type": "markdown",
   "id": "d06acdb9",
   "metadata": {},
   "source": [
    "## Learn causal structure"
   ]
  },
  {
   "cell_type": "code",
   "execution_count": 3,
   "id": "fc071212",
   "metadata": {},
   "outputs": [
    {
     "name": "stdout",
     "output_type": "stream",
     "text": [
      "[bnlearn] >Computing best DAG using [hc]\n",
      "[bnlearn] >Set scoring type at [bic]\n",
      "[bnlearn] >Compute structure scores ['k2', 'bds', 'bic', 'bdeu'] for model comparison (higher is better).\n",
      "[bnlearn] >Compute edge strength with [chi_square]\n"
     ]
    }
   ],
   "source": [
    "model = bn.structure_learning.fit(df)\n",
    "model = bn.independence_test(model, df)"
   ]
  },
  {
   "cell_type": "code",
   "execution_count": 4,
   "id": "ba2cf480",
   "metadata": {},
   "outputs": [
    {
     "data": {
      "text/plain": [
       "dict_keys(['model', 'model_edges', 'adjmat', 'config', 'structure_scores', 'independence_test'])"
      ]
     },
     "execution_count": 4,
     "metadata": {},
     "output_type": "execute_result"
    }
   ],
   "source": [
    "model.keys()"
   ]
  },
  {
   "cell_type": "code",
   "execution_count": 5,
   "id": "00d22326",
   "metadata": {},
   "outputs": [
    {
     "data": {
      "text/html": [
       "<div>\n",
       "<style scoped>\n",
       "    .dataframe tbody tr th:only-of-type {\n",
       "        vertical-align: middle;\n",
       "    }\n",
       "\n",
       "    .dataframe tbody tr th {\n",
       "        vertical-align: top;\n",
       "    }\n",
       "\n",
       "    .dataframe thead th {\n",
       "        text-align: right;\n",
       "    }\n",
       "</style>\n",
       "<table border=\"1\" class=\"dataframe\">\n",
       "  <thead>\n",
       "    <tr style=\"text-align: right;\">\n",
       "      <th></th>\n",
       "      <th>source</th>\n",
       "      <th>target</th>\n",
       "      <th>stat_test</th>\n",
       "      <th>p_value</th>\n",
       "      <th>chi_square</th>\n",
       "      <th>dof</th>\n",
       "    </tr>\n",
       "  </thead>\n",
       "  <tbody>\n",
       "    <tr>\n",
       "      <th>0</th>\n",
       "      <td>cloudy</td>\n",
       "      <td>sprinkler</td>\n",
       "      <td>True</td>\n",
       "      <td>0.000000e+00</td>\n",
       "      <td>4282.448325</td>\n",
       "      <td>1</td>\n",
       "    </tr>\n",
       "    <tr>\n",
       "      <th>1</th>\n",
       "      <td>cloudy</td>\n",
       "      <td>rain</td>\n",
       "      <td>True</td>\n",
       "      <td>7.458543e-218</td>\n",
       "      <td>992.554506</td>\n",
       "      <td>1</td>\n",
       "    </tr>\n",
       "    <tr>\n",
       "      <th>2</th>\n",
       "      <td>rain</td>\n",
       "      <td>grass_wet</td>\n",
       "      <td>True</td>\n",
       "      <td>0.000000e+00</td>\n",
       "      <td>5404.646098</td>\n",
       "      <td>1</td>\n",
       "    </tr>\n",
       "    <tr>\n",
       "      <th>3</th>\n",
       "      <td>sprinkler</td>\n",
       "      <td>grass_wet</td>\n",
       "      <td>True</td>\n",
       "      <td>0.000000e+00</td>\n",
       "      <td>2609.922764</td>\n",
       "      <td>1</td>\n",
       "    </tr>\n",
       "  </tbody>\n",
       "</table>\n",
       "</div>"
      ],
      "text/plain": [
       "      source     target  stat_test        p_value   chi_square  dof\n",
       "0     cloudy  sprinkler       True   0.000000e+00  4282.448325    1\n",
       "1     cloudy       rain       True  7.458543e-218   992.554506    1\n",
       "2       rain  grass_wet       True   0.000000e+00  5404.646098    1\n",
       "3  sprinkler  grass_wet       True   0.000000e+00  2609.922764    1"
      ]
     },
     "execution_count": 5,
     "metadata": {},
     "output_type": "execute_result"
    }
   ],
   "source": [
    "model['independence_test']"
   ]
  },
  {
   "cell_type": "code",
   "execution_count": 6,
   "id": "d808ca19",
   "metadata": {},
   "outputs": [
    {
     "data": {
      "text/plain": [
       "{'k2': -12035.408998516985,\n",
       " 'bds': -12084.38884600171,\n",
       " 'bic': -12023.933634003473,\n",
       " 'bdeu': -12058.940934571432}"
      ]
     },
     "execution_count": 6,
     "metadata": {},
     "output_type": "execute_result"
    }
   ],
   "source": [
    "model['structure_scores']"
   ]
  },
  {
   "cell_type": "code",
   "execution_count": 7,
   "id": "e9a5656e",
   "metadata": {},
   "outputs": [
    {
     "data": {
      "text/plain": [
       "pgmpy.base.DAG.DAG"
      ]
     },
     "execution_count": 7,
     "metadata": {},
     "output_type": "execute_result"
    }
   ],
   "source": [
    "type(model['model'])"
   ]
  },
  {
   "cell_type": "code",
   "execution_count": 8,
   "id": "f61fff1a",
   "metadata": {},
   "outputs": [
    {
     "data": {
      "text/html": [
       "<div>\n",
       "<style scoped>\n",
       "    .dataframe tbody tr th:only-of-type {\n",
       "        vertical-align: middle;\n",
       "    }\n",
       "\n",
       "    .dataframe tbody tr th {\n",
       "        vertical-align: top;\n",
       "    }\n",
       "\n",
       "    .dataframe thead th {\n",
       "        text-align: right;\n",
       "    }\n",
       "</style>\n",
       "<table border=\"1\" class=\"dataframe\">\n",
       "  <thead>\n",
       "    <tr style=\"text-align: right;\">\n",
       "      <th>target</th>\n",
       "      <th>cloudy</th>\n",
       "      <th>rain</th>\n",
       "      <th>sprinkler</th>\n",
       "      <th>grass_wet</th>\n",
       "    </tr>\n",
       "    <tr>\n",
       "      <th>source</th>\n",
       "      <th></th>\n",
       "      <th></th>\n",
       "      <th></th>\n",
       "      <th></th>\n",
       "    </tr>\n",
       "  </thead>\n",
       "  <tbody>\n",
       "    <tr>\n",
       "      <th>cloudy</th>\n",
       "      <td>False</td>\n",
       "      <td>True</td>\n",
       "      <td>True</td>\n",
       "      <td>False</td>\n",
       "    </tr>\n",
       "    <tr>\n",
       "      <th>rain</th>\n",
       "      <td>False</td>\n",
       "      <td>False</td>\n",
       "      <td>False</td>\n",
       "      <td>True</td>\n",
       "    </tr>\n",
       "    <tr>\n",
       "      <th>sprinkler</th>\n",
       "      <td>False</td>\n",
       "      <td>False</td>\n",
       "      <td>False</td>\n",
       "      <td>True</td>\n",
       "    </tr>\n",
       "    <tr>\n",
       "      <th>grass_wet</th>\n",
       "      <td>False</td>\n",
       "      <td>False</td>\n",
       "      <td>False</td>\n",
       "      <td>False</td>\n",
       "    </tr>\n",
       "  </tbody>\n",
       "</table>\n",
       "</div>"
      ],
      "text/plain": [
       "target     cloudy   rain  sprinkler  grass_wet\n",
       "source                                        \n",
       "cloudy      False   True       True      False\n",
       "rain        False  False      False       True\n",
       "sprinkler   False  False      False       True\n",
       "grass_wet   False  False      False      False"
      ]
     },
     "execution_count": 8,
     "metadata": {},
     "output_type": "execute_result"
    }
   ],
   "source": [
    "model['adjmat']"
   ]
  },
  {
   "cell_type": "markdown",
   "id": "60e0cc6f",
   "metadata": {},
   "source": [
    "## Visualise result\n",
    "\n",
    "Draw causal graph"
   ]
  },
  {
   "cell_type": "code",
   "execution_count": 9,
   "id": "905bf286",
   "metadata": {},
   "outputs": [
    {
     "name": "stdout",
     "output_type": "stream",
     "text": [
      "[bnlearn] >Set node properties.\n",
      "[bnlearn]> Set edge weights based on the [chi_square] test statistic.\n",
      "[bnlearn] >Set edge properties.\n",
      "[bnlearn] >Plot based on Bayesian model\n"
     ]
    },
    {
     "data": {
      "image/png": "[encoded data removed]",
      "text/plain": [
       "<Figure size 1080x720 with 1 Axes>"
      ]
     },
     "metadata": {},
     "output_type": "display_data"
    }
   ],
   "source": [
    "G = bn.plot(model)"
   ]
  },
  {
   "cell_type": "markdown",
   "id": "09c42625",
   "metadata": {},
   "source": [
    "## Conclusions\n",
    "\n",
    "- Method does not consistently discover the \"correct\" causal relationship in the synthetic data.\n",
    "    - Sometimes the sprinkler causes clouds, other times the clouds causes the sprinkler.   \n"
   ]
  },
  {
   "cell_type": "code",
   "execution_count": null,
   "id": "95c2ec95",
   "metadata": {},
   "outputs": [],
   "source": []
  }
 ],
 "metadata": {
  "kernelspec": {
   "display_name": "Python 3 (ipykernel)",
   "language": "python",
   "name": "python3"
  },
  "language_info": {
   "codemirror_mode": {
    "name": "ipython",
    "version": 3
   },
   "file_extension": ".py",
   "mimetype": "text/x-python",
   "name": "python",
   "nbconvert_exporter": "python",
   "pygments_lexer": "ipython3",
   "version": "3.9.5"
  }
 },
 "nbformat": 4,
 "nbformat_minor": 5
}
